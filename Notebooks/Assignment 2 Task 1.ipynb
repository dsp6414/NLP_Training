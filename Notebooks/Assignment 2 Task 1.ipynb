{
 "cells": [
  {
   "cell_type": "code",
   "execution_count": 261,
   "metadata": {},
   "outputs": [],
   "source": [
    "import torch\n",
    "import torch.nn as nn\n",
    "from torchtext import data\n",
    "import torch.optim as optim\n",
    "\n",
    "import pandas as pd\n",
    "import sys\n",
    "\n",
    "device = torch.device('cuda' if torch.cuda.is_available() else 'cpu') "
   ]
  },
  {
   "cell_type": "code",
   "execution_count": 269,
   "metadata": {},
   "outputs": [],
   "source": [
    "# sentA = data.Field(tokenize='spacy', include_lengths=True, batch_first=True)\n",
    "# sentB = data.Field(tokenize='spacy', include_lengths=True, batch_first=True)\n",
    "# score = data.LabelField(dtype=torch.float, batch_first=True)\n",
    "train_label = data.LabelField(dtype=torch.int64, batch_first=True)\n",
    "train_sentAB = data.Field(tokenize='spacy', include_lengths=True, batch_first=True)\n",
    "\n",
    "test_label = data.LabelField(dtype=torch.int64, batch_first=True)\n",
    "test_sentAB = data.Field(tokenize='spacy', include_lengths=True, batch_first=True)"
   ]
  },
  {
   "cell_type": "code",
   "execution_count": 272,
   "metadata": {},
   "outputs": [],
   "source": [
    "train_fields = [(None, None), (None, None), (None, None), \n",
    "                (None, None), ('train_label', train_label), ('train_sentAB', train_sentAB)]\n",
    "test_fields = [(None, None), (None, None), (None, None), \n",
    "               (None, None), ('test_label', test_label), ('test_sentAB', test_sentAB)]\n",
    "\n",
    "train_dataset = data.TabularDataset(path='../DATA/SICK/SICK train.csv', format='CSV', \n",
    "                                    fields=train_fields, skip_header=True)\n",
    "test_dataset = data.TabularDataset(path='../DATA/SICK/SICK val.csv', format='CSV', \n",
    "                                    fields=test_fields, skip_header=True)"
   ]
  },
  {
   "cell_type": "code",
   "execution_count": 273,
   "metadata": {},
   "outputs": [
    {
     "name": "stdout",
     "output_type": "stream",
     "text": [
      "Size of training set 4500\n",
      "{'train_label': '0', 'train_sentAB': ['A', 'group', 'of', 'kids', 'is', 'playing', 'in', 'a', 'yard', 'and', 'an', 'old', 'man', 'is', 'standing', 'in', 'the', 'background', '<', 'sep', '>', 'A', 'group', 'of', 'boys', 'in', 'a', 'yard', 'is', 'playing', 'and', 'a', 'man', 'is', 'standing', 'in', 'the', 'background']}\n"
     ]
    }
   ],
   "source": [
    "print(\"Size of training set {}\".format(len(train_dataset)))\n",
    "#Example of training data\n",
    "print(vars(train_dataset.examples[0]))"
   ]
  },
  {
   "cell_type": "code",
   "execution_count": 274,
   "metadata": {},
   "outputs": [
    {
     "name": "stdout",
     "output_type": "stream",
     "text": [
      "Size of test set 500\n",
      "{'test_label': '2', 'test_sentAB': ['The', 'young', 'boys', 'are', 'playing', 'outdoors', 'and', 'the', 'man', 'is', 'smiling', 'nearby', '<', 'sep', '>', 'There', 'is', 'no', 'boy', 'playing', 'outdoors', 'and', 'there', 'is', 'no', 'man', 'smiling']}\n"
     ]
    }
   ],
   "source": [
    "print(\"Size of test set {}\".format(len(test_dataset)))\n",
    "#Example of training data\n",
    "print(vars(test_dataset.examples[0]))"
   ]
  },
  {
   "cell_type": "code",
   "execution_count": 275,
   "metadata": {},
   "outputs": [],
   "source": [
    "train_sentAB.build_vocab(train_dataset, min_freq=3, vectors_cache=\"Vectors/\",\n",
    "                         vectors=\"glove.6B.100d\")\n",
    "\n",
    "test_sentAB.build_vocab(test_dataset, min_freq=3, vectors_cache=\"Vectors/\",\n",
    "                        vectors=\"glove.6B.100d\")\n",
    "\n",
    "train_label.build_vocab(train_dataset)\n",
    "test_label.build_vocab(test_dataset)\n",
    "# score.build_vocab(training_data)"
   ]
  },
  {
   "cell_type": "code",
   "execution_count": 278,
   "metadata": {},
   "outputs": [
    {
     "name": "stdout",
     "output_type": "stream",
     "text": [
      "1697\n",
      "439\n"
     ]
    }
   ],
   "source": [
    "print(len(train_sentAB.vocab))\n",
    "\n",
    "print(len(test_sentAB.vocab))\n",
    "# sentAB.vocab.stoi   #Print dictionary of words and indices\n",
    "# sentAB.vocab.vectors  #Print vectors assigned to each word based on index"
   ]
  },
  {
   "cell_type": "code",
   "execution_count": 280,
   "metadata": {},
   "outputs": [
    {
     "name": "stdout",
     "output_type": "stream",
     "text": [
      "defaultdict(None, {'0': 0, '1': 1, '2': 2})\n",
      "defaultdict(None, {'0': 0, '1': 1, '2': 2})\n"
     ]
    }
   ],
   "source": [
    "print(train_label.vocab.stoi)\n",
    "print(test_label.vocab.stoi)"
   ]
  },
  {
   "cell_type": "code",
   "execution_count": 281,
   "metadata": {},
   "outputs": [],
   "source": [
    "BATCH_SIZE = 2\n",
    "\n",
    "train_iterator = data.BucketIterator(train_dataset, BATCH_SIZE,\n",
    "                                     sort_key=lambda x : x.train_sentAB,\n",
    "                                     device=device,\n",
    "                                     shuffle=True)\n",
    "\n",
    "test_iterator = data.BucketIterator(test_dataset, BATCH_SIZE,\n",
    "                                     sort_key=lambda x : x.test_sentAB,\n",
    "                                     device=device,\n",
    "                                     shuffle=True)"
   ]
  },
  {
   "cell_type": "code",
   "execution_count": 282,
   "metadata": {},
   "outputs": [],
   "source": [
    "class RNNModel(nn.Module):\n",
    "    \n",
    "    def __init__(self, vocab_size, embedding_dim, hidden_dim,\n",
    "                 output_dim, num_layers, bidirectional,dropout_rate):\n",
    "        super().__init__()\n",
    "        \n",
    "        #Embedding layer\n",
    "        self.embedding = nn.Embedding(vocab_size, embedding_dim)\n",
    "        \n",
    "        #LSTM layer\n",
    "        self.lstm = nn.LSTM(embedding_dim, hidden_dim,\n",
    "                            num_layers=num_layers,\n",
    "                            bidirectional=bidirectional,\n",
    "                            dropout=dropout_rate,\n",
    "                            batch_first=True)\n",
    "        \n",
    "        #Full connected layer\n",
    "        self.fc = nn.Linear(2 * hidden_dim, output_dim)\n",
    "        \n",
    "        #Activation function\n",
    "#         self.act_fn = nn.Softmax(dim=1)\n",
    "        \n",
    "    def forward(self, text, text_lengths):\n",
    "        \n",
    "        #text = [batch size, max sentence length in batch]\n",
    "        embedded = self.embedding(text)\n",
    "        \n",
    "        #pack the batch sentences to max length\n",
    "        packed_embedded = nn.utils.rnn.pack_padded_sequence(embedded, text_lengths, \n",
    "                                                            batch_first=True, enforce_sorted=False)\n",
    "        \n",
    "        packed_output, (hidden, cell) = self.lstm(packed_embedded)\n",
    "        \n",
    "        hidden = torch.cat((hidden[-2,:,:], hidden[-1,:,:]), dim=1)\n",
    "        \n",
    "        #\n",
    "        fc_outputs = self.fc(hidden)\n",
    "        \n",
    "        #Calculate softmax\n",
    "        #Softmax is inbuilt in CE loss\n",
    "#         outputs = self.act_fn(fc_outputs)\n",
    "        outputs = fc_outputs\n",
    "    \n",
    "        return outputs"
   ]
  },
  {
   "cell_type": "code",
   "execution_count": 283,
   "metadata": {},
   "outputs": [
    {
     "data": {
      "text/plain": [
       "RNNModel(\n",
       "  (embedding): Embedding(1697, 100)\n",
       "  (lstm): LSTM(100, 32, num_layers=2, batch_first=True, dropout=0.2, bidirectional=True)\n",
       "  (fc): Linear(in_features=64, out_features=3, bias=True)\n",
       ")"
      ]
     },
     "execution_count": 283,
     "metadata": {},
     "output_type": "execute_result"
    }
   ],
   "source": [
    "vocab_size = len(train_sentAB.vocab)\n",
    "embedding_dim = 100\n",
    "num_hidden_nodes = 32\n",
    "num_output_nodes = 3\n",
    "num_layers = 2\n",
    "bidirectional = True\n",
    "dropout_rate = 0.2\n",
    "\n",
    "#Create the model\n",
    "model = RNNModel(vocab_size, embedding_dim, num_hidden_nodes,\n",
    "                 num_output_nodes, num_layers, bidirectional,dropout_rate)\n",
    "model.to(device)\n",
    "\n",
    "model"
   ]
  },
  {
   "cell_type": "code",
   "execution_count": 284,
   "metadata": {},
   "outputs": [
    {
     "name": "stdout",
     "output_type": "stream",
     "text": [
      "Number of trainable elements in the model 229287\n",
      "Size of embedding matrix torch.Size([1697, 100])\n"
     ]
    }
   ],
   "source": [
    "num_elements = 0\n",
    "for params in model.parameters():\n",
    "    if params.requires_grad:\n",
    "        num_elements += params.numel()\n",
    "    \n",
    "print(\"Number of trainable elements in the model {}\".format(num_elements))\n",
    "\n",
    "#Set pretrained word embedding as weights for embedding layer\n",
    "embeddings = train_sentAB.vocab.vectors\n",
    "model.embedding.weight.data.copy_(embeddings)\n",
    "\n",
    "print(\"Size of embedding matrix {}\".format(embeddings.size()))"
   ]
  },
  {
   "cell_type": "code",
   "execution_count": 285,
   "metadata": {},
   "outputs": [
    {
     "data": {
      "text/plain": [
       "CrossEntropyLoss()"
      ]
     },
     "execution_count": 285,
     "metadata": {},
     "output_type": "execute_result"
    }
   ],
   "source": [
    "#Optimizer and Loss\n",
    "optimizer = optim.Adam(model.parameters(), lr=1e-2)\n",
    "criterion = nn.CrossEntropyLoss()\n",
    "#Softmax layer only used to get probabilties\n",
    "softmax = nn.LogSoftmax(dim=1)\n",
    "softmax.requires_grad = False\n",
    "\n",
    "criterion.to(device)"
   ]
  },
  {
   "cell_type": "code",
   "execution_count": 289,
   "metadata": {},
   "outputs": [],
   "source": [
    "#Training loop\n",
    "\n",
    "def train():\n",
    "    iterations = len(train_dataset) / BATCH_SIZE\n",
    "\n",
    "    model.train()\n",
    "\n",
    "    running_loss = 0\n",
    "    running_correct = 0\n",
    "\n",
    "    for batch_idx, items in enumerate(train_iterator):\n",
    "\n",
    "        sys.stdout.write('\\r')\n",
    "        sys.stdout.write(\"{} Iteration :{}/{}\"\n",
    "                            .format(\"train\", batch_idx + 1, iterations))\n",
    "\n",
    "        optimizer.zero_grad()\n",
    "\n",
    "        #Get the text and length of sentences\n",
    "        text, text_lengths = items.train_sentAB\n",
    "        text = text.to(device)\n",
    "        text_lengths = text_lengths.to(device)\n",
    "\n",
    "        #Get labels of each batch\n",
    "        labels = items.train_label\n",
    "        labels = labels.to(device)\n",
    "\n",
    "        #Predictions are in size [1, ..]\n",
    "        outputs = model(text, text_lengths).squeeze()\n",
    "\n",
    "        #Calculate loss\n",
    "        loss = criterion(outputs, items.train_label)\n",
    "        \n",
    "        #Convert predictions to probabilities\n",
    "        probabilites = softmax(outputs)\n",
    "        #Give's the index of the node with the highest probability\n",
    "        predictions = torch.argmax(probabilites, dim=1)\n",
    "        correct = (predictions == labels).float()\n",
    "\n",
    "        loss.backward()   \n",
    "        optimizer.step()\n",
    "\n",
    "        #Save the loss details for each epoch\n",
    "        running_loss += loss.item()\n",
    "        running_correct += correct.sum().item()\n",
    "\n",
    "    epoch_loss = running_loss / len(train_iterator)\n",
    "    epoch_accuracy = running_correct / len(train_dataset)\n",
    "    \n",
    "    return epoch_loss, epoch_accuracy"
   ]
  },
  {
   "cell_type": "code",
   "execution_count": 287,
   "metadata": {},
   "outputs": [],
   "source": [
    "#Evaluate the results\n",
    "\n",
    "def evaluate():\n",
    "    iterations = len(test_dataset) / BATCH_SIZE\n",
    "\n",
    "    model.eval()\n",
    "\n",
    "    running_loss = 0\n",
    "    running_correct = 0\n",
    "\n",
    "    with torch.no_grad():\n",
    "        for batch_idx, items in enumerate(test_iterator):\n",
    "\n",
    "            sys.stdout.write('\\r')\n",
    "            sys.stdout.write(\"{} Iteration :{}/{}\"\n",
    "                                .format(\"test\", batch_idx + 1, iterations))\n",
    "\n",
    "\n",
    "            #Get the text and length of sentences\n",
    "            text, text_lengths = items.test_sentAB\n",
    "            text = text.to(device)\n",
    "            text_lengths = text_lengths.to(device)\n",
    "\n",
    "            #Get labels of each batch\n",
    "            labels = items.test_label\n",
    "            labels = labels.to(device)\n",
    "\n",
    "            #Predictions are in size [1, ..]\n",
    "            outputs = model(text, text_lengths).squeeze()\n",
    "\n",
    "            #Calculate loss\n",
    "            loss = criterion(outputs, items.test_label)\n",
    "\n",
    "            #Convert predictions to probabilities\n",
    "            probabilites = softmax(outputs)\n",
    "            #Give's the index of the node with the highest probability\n",
    "            predictions = torch.argmax(probabilites, dim=1)\n",
    "            correct = (predictions == labels).float()\n",
    "\n",
    "            #Save the loss details for each epoch\n",
    "            running_loss += loss.item()\n",
    "            running_correct += correct.sum().item()\n",
    "\n",
    "        epoch_loss = running_loss / len(test_iterator)\n",
    "        epoch_accuracy = running_correct / len(test_dataset)\n",
    "    \n",
    "    return epoch_loss, epoch_accuracy"
   ]
  },
  {
   "cell_type": "code",
   "execution_count": 294,
   "metadata": {},
   "outputs": [
    {
     "name": "stdout",
     "output_type": "stream",
     "text": [
      "train Iteration :2250/2250.0"
     ]
    },
    {
     "data": {
      "text/plain": [
       "(0.9061969061295192, 0.5737777777777778)"
      ]
     },
     "execution_count": 294,
     "metadata": {},
     "output_type": "execute_result"
    }
   ],
   "source": [
    "train_loss, train_acc = train()\n",
    "train_loss, train_acc"
   ]
  },
  {
   "cell_type": "code",
   "execution_count": 295,
   "metadata": {},
   "outputs": [
    {
     "name": "stdout",
     "output_type": "stream",
     "text": [
      "test Iteration :250/250.0"
     ]
    },
    {
     "data": {
      "text/plain": [
       "(1.0874172666072845, 0.466)"
      ]
     },
     "execution_count": 295,
     "metadata": {},
     "output_type": "execute_result"
    }
   ],
   "source": [
    "eval_loss, eval_acc = evaluate()\n",
    "eval_loss, eval_acc"
   ]
  },
  {
   "cell_type": "code",
   "execution_count": 260,
   "metadata": {},
   "outputs": [],
   "source": [
    "#Preprocessing the data\n",
    "df = pd.read_csv('../Data/SICK/SICK train.txt', sep=\"\\t\")\n",
    "\n",
    "label = []\n",
    "\n",
    "for val in df['entailment_judgment']:\n",
    "    if val == \"CONTRADICTION\":\n",
    "        label.append(2)\n",
    "    elif val == \"ENTAILMENT\":\n",
    "        label.append(1)\n",
    "    else:\n",
    "        label.append(0)\n",
    "\n",
    "df['entailment_judgment'] = label\n",
    "input_sent = []\n",
    "\n",
    "for idx, row in df.iterrows():\n",
    "    input_sent.append(row['sentence_A'] + ' <sep> ' + row['sentence_B'])\n",
    "\n",
    "df['sentAB'] = input_sent\n",
    "\n",
    "df.to_csv('../DATA/SICK/SICK train.csv', index=False)"
   ]
  }
 ],
 "metadata": {
  "kernelspec": {
   "display_name": "Python 3",
   "language": "python",
   "name": "python3"
  },
  "language_info": {
   "codemirror_mode": {
    "name": "ipython",
    "version": 3
   },
   "file_extension": ".py",
   "mimetype": "text/x-python",
   "name": "python",
   "nbconvert_exporter": "python",
   "pygments_lexer": "ipython3",
   "version": "3.7.6"
  }
 },
 "nbformat": 4,
 "nbformat_minor": 4
}
