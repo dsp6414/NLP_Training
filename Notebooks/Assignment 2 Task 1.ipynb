{
 "cells": [
  {
   "cell_type": "code",
   "execution_count": 31,
   "metadata": {},
   "outputs": [],
   "source": [
    "import torch\n",
    "import torch.nn as nn\n",
    "from torchtext import data\n",
    "import torch.optim as optim\n",
    "\n",
    "import pandas as pd\n",
    "import numpy as np\n",
    "import sys\n",
    "from collections import Counter\n",
    "\n",
    "#Reproducing same results\n",
    "seed = 2020\n",
    "\n",
    "#Set the seed to be fixed\n",
    "torch.manual_seed(seed)\n",
    "\n",
    "device = torch.device('cuda' if torch.cuda.is_available() else 'cpu') "
   ]
  },
  {
   "cell_type": "code",
   "execution_count": 32,
   "metadata": {},
   "outputs": [
    {
     "name": "stdout",
     "output_type": "stream",
     "text": [
      "Counter({'NEUTRAL': 2818, 'ENTAILMENT': 1443, 'CONTRADICTION': 739})\n",
      "Counter({'NEUTRAL': 2793, 'ENTAILMENT': 1414, 'CONTRADICTION': 720})\n"
     ]
    }
   ],
   "source": [
    "train_df = pd.read_csv('../DATA/SICK/SICK train val.csv')\n",
    "test_df = pd.read_csv('../DATA/SICK/SICK test.csv')\n",
    "\n",
    "#To show that there is imabalance in both datasets\n",
    "print(Counter(train_df['entailment_judgment']))\n",
    "print(Counter(test_df['entailment_judgment']))"
   ]
  },
  {
   "cell_type": "code",
   "execution_count": 33,
   "metadata": {},
   "outputs": [],
   "source": [
    "train_class_count = torch.tensor([v for k,v in Counter(train_df['entailment_judgment']).items()])\n",
    "test_class_count = torch.tensor([v for k,v in Counter(test_df['entailment_judgment']).items()])\n",
    "\n",
    "class_loss_weights = {\n",
    "    'train' : train_class_count.float()/torch.max(train_class_count),\n",
    "    'test' : test_class_count.float()/torch.max(test_class_count)\n",
    "}"
   ]
  },
  {
   "cell_type": "code",
   "execution_count": 34,
   "metadata": {},
   "outputs": [
    {
     "data": {
      "text/plain": [
       "{'train': tensor([1.0000, 0.5121, 0.2622]),\n",
       " 'test': tensor([1.0000, 0.5063, 0.2578])}"
      ]
     },
     "execution_count": 34,
     "metadata": {},
     "output_type": "execute_result"
    }
   ],
   "source": [
    "class_loss_weights"
   ]
  },
  {
   "cell_type": "code",
   "execution_count": 35,
   "metadata": {},
   "outputs": [],
   "source": [
    "train_label = data.LabelField(dtype=torch.int64, batch_first=True)\n",
    "train_sentAB = data.Field(tokenize='spacy', include_lengths=True, batch_first=True)\n",
    "\n",
    "test_label = data.LabelField(dtype=torch.int64, batch_first=True)\n",
    "test_sentAB = data.Field(tokenize='spacy', include_lengths=True, batch_first=True)\n",
    "\n",
    "train_fields = [(None, None), (None, None), (None, None), (None, None), (None, None),\n",
    "                ('train_label', train_label), ('train_sentAB', train_sentAB)]\n",
    "test_fields = [(None, None), (None, None), (None, None), (None, None), (None, None),\n",
    "               ('test_label', test_label), ('test_sentAB', test_sentAB)]\n",
    "\n",
    "train_dataset = data.TabularDataset(path='../DATA/SICK/SICK train val.csv', format='CSV', \n",
    "                                    fields=train_fields, skip_header=True)\n",
    "test_dataset = data.TabularDataset(path='../DATA/SICK/SICK test.csv', format='CSV', \n",
    "                                    fields=test_fields, skip_header=True)"
   ]
  },
  {
   "cell_type": "code",
   "execution_count": 36,
   "metadata": {},
   "outputs": [
    {
     "name": "stdout",
     "output_type": "stream",
     "text": [
      "{'train_label': '0', 'train_sentAB': ['A', 'group', 'of', 'kids', 'is', 'playing', 'in', 'a', 'yard', 'and', 'an', 'old', 'man', 'is', 'standing', 'in', 'the', 'background', '<', 'sep', '>', 'A', 'group', 'of', 'boys', 'in', 'a', 'yard', 'is', 'playing', 'and', 'a', 'man', 'is', 'standing', 'in', 'the', 'background']}\n"
     ]
    }
   ],
   "source": [
    "print(vars(train_dataset.examples[0]))"
   ]
  },
  {
   "cell_type": "code",
   "execution_count": 37,
   "metadata": {},
   "outputs": [
    {
     "name": "stdout",
     "output_type": "stream",
     "text": [
      "Size of training set 5000\n",
      "{'train_label': '0', 'train_sentAB': ['A', 'group', 'of', 'kids', 'is', 'playing', 'in', 'a', 'yard', 'and', 'an', 'old', 'man', 'is', 'standing', 'in', 'the', 'background', '<', 'sep', '>', 'A', 'group', 'of', 'boys', 'in', 'a', 'yard', 'is', 'playing', 'and', 'a', 'man', 'is', 'standing', 'in', 'the', 'background']}\n"
     ]
    }
   ],
   "source": [
    "print(\"Size of training set {}\".format(len(train_dataset)))\n",
    "#Example of training data\n",
    "print(vars(train_dataset.examples[0]))"
   ]
  },
  {
   "cell_type": "code",
   "execution_count": 38,
   "metadata": {},
   "outputs": [
    {
     "name": "stdout",
     "output_type": "stream",
     "text": [
      "Size of test set 4927\n",
      "{'test_label': '0', 'test_sentAB': ['There', 'is', 'no', 'boy', 'playing', 'outdoors', 'and', 'there', 'is', 'no', 'man', 'smiling', '<', 'sep', '>', 'A', 'group', 'of', 'kids', 'is', 'playing', 'in', 'a', 'yard', 'and', 'an', 'old', 'man', 'is', 'standing', 'in', 'the', 'background']}\n"
     ]
    }
   ],
   "source": [
    "print(\"Size of test set {}\".format(len(test_dataset)))\n",
    "#Example of training data\n",
    "print(vars(test_dataset.examples[0]))"
   ]
  },
  {
   "cell_type": "code",
   "execution_count": 39,
   "metadata": {},
   "outputs": [],
   "source": [
    "train_sentAB.build_vocab(train_dataset, min_freq=1, vectors_cache=\"Vectors/\",\n",
    "                         vectors=\"glove.6B.300d\")\n",
    "\n",
    "test_sentAB.build_vocab(test_dataset, min_freq=1, vectors_cache=\"Vectors/\",\n",
    "                        vectors=\"glove.6B.300d\")\n",
    "\n",
    "train_label.build_vocab(train_dataset)\n",
    "test_label.build_vocab(test_dataset)\n",
    "# score.build_vocab(training_data)"
   ]
  },
  {
   "cell_type": "code",
   "execution_count": 40,
   "metadata": {},
   "outputs": [
    {
     "name": "stdout",
     "output_type": "stream",
     "text": [
      "('A', 4)\n",
      "('group', 66)\n",
      "('of', 16)\n",
      "('children', 83)\n",
      "('is', 2)\n",
      "('playing', 18)\n",
      "('in', 10)\n",
      "('the', 8)\n",
      "('house', 525)\n",
      "('and', 11)\n"
     ]
    }
   ],
   "source": [
    "#Example of word is matched to index from embeddings\n",
    "for word in train_dataset.examples[1].train_sentAB[:10]:\n",
    "    print((word, train_sentAB.vocab.stoi[word]))"
   ]
  },
  {
   "cell_type": "code",
   "execution_count": 41,
   "metadata": {},
   "outputs": [
    {
     "name": "stdout",
     "output_type": "stream",
     "text": [
      "2298\n",
      "2273\n"
     ]
    }
   ],
   "source": [
    "print(len(train_sentAB.vocab))\n",
    "\n",
    "print(len(test_sentAB.vocab))"
   ]
  },
  {
   "cell_type": "code",
   "execution_count": 42,
   "metadata": {},
   "outputs": [
    {
     "name": "stdout",
     "output_type": "stream",
     "text": [
      "defaultdict(None, {'0': 0, '1': 1, '2': 2})\n",
      "defaultdict(None, {'0': 0, '1': 1, '2': 2})\n"
     ]
    }
   ],
   "source": [
    "print(train_label.vocab.stoi)\n",
    "print(test_label.vocab.stoi)"
   ]
  },
  {
   "cell_type": "code",
   "execution_count": 43,
   "metadata": {},
   "outputs": [],
   "source": [
    "TRAIN_BATCH_SIZE = 8\n",
    "TEST_BATCH_SIZE = 13\n",
    "\n",
    "train_iterator = data.BucketIterator(train_dataset, TRAIN_BATCH_SIZE,\n",
    "                                     sort_key=lambda x : x.train_sentAB,\n",
    "                                     device=device,\n",
    "                                     shuffle=True)\n",
    "\n",
    "test_iterator = data.BucketIterator(test_dataset, TEST_BATCH_SIZE,\n",
    "                                     sort_key=lambda x : x.test_sentAB,\n",
    "                                     device=device,\n",
    "                                     shuffle=False)"
   ]
  },
  {
   "cell_type": "code",
   "execution_count": 44,
   "metadata": {},
   "outputs": [],
   "source": [
    "class RNNModel(nn.Module):\n",
    "    \n",
    "    def __init__(self, vocab_size, embedding_dim, hidden_dim,\n",
    "                 output_dim, num_layers, bidirectional,dropout_rate):\n",
    "        super().__init__()\n",
    "        \n",
    "        #Embedding layer\n",
    "        self.embedding = nn.Embedding(vocab_size, embedding_dim)\n",
    "        \n",
    "        #More regularization\n",
    "#         self.dropout1 = nn.Dropout(p=dropout_rate)\n",
    "        \n",
    "        #LSTM layer\n",
    "        self.lstm = nn.LSTM(embedding_dim, hidden_dim,\n",
    "                            num_layers=num_layers,\n",
    "                            bidirectional=bidirectional,\n",
    "#                             dropout=dropout_rate,\n",
    "                            batch_first=True)\n",
    "        \n",
    "        #More regularization\n",
    "        self.dropout2 = nn.Dropout(p=dropout_rate)\n",
    "        \n",
    "        #Full connected layer\n",
    "        self.fc = nn.Linear(2 * hidden_dim, output_dim)\n",
    "        \n",
    "    def forward(self, text, text_lengths):\n",
    "        \n",
    "        #text = [batch size, max sentence length in batch]\n",
    "        embedded = self.embedding(text)\n",
    "        \n",
    "        #Regularize!\n",
    "#         reg_embedded = self.dropout1(embedded)\n",
    "        \n",
    "        #pack the batch sentences to max length\n",
    "        packed_embedded = nn.utils.rnn.pack_padded_sequence(embedded, text_lengths, \n",
    "                                                            batch_first=True, enforce_sorted=False)\n",
    "        \n",
    "        packed_output, (hidden, cell) = self.lstm(packed_embedded)\n",
    "        \n",
    "        hidden = torch.cat((hidden[-2,:,:], hidden[-1,:,:]), dim=1)\n",
    "        \n",
    "        inputs = self.dropout2(hidden)\n",
    "        \n",
    "        #Direct values are given to CE loss for loss calculation\n",
    "        #LogSoftmax is used for inference\n",
    "        outputs = self.fc(inputs)\n",
    "    \n",
    "        return outputs"
   ]
  },
  {
   "cell_type": "code",
   "execution_count": 45,
   "metadata": {},
   "outputs": [
    {
     "data": {
      "text/plain": [
       "RNNModel(\n",
       "  (embedding): Embedding(2298, 300)\n",
       "  (lstm): LSTM(300, 32, batch_first=True, bidirectional=True)\n",
       "  (dropout2): Dropout(p=0.4, inplace=False)\n",
       "  (fc): Linear(in_features=64, out_features=3, bias=True)\n",
       ")"
      ]
     },
     "execution_count": 45,
     "metadata": {},
     "output_type": "execute_result"
    }
   ],
   "source": [
    "vocab_size = len(train_sentAB.vocab)\n",
    "embedding_dim = 300\n",
    "num_hidden_nodes = 32\n",
    "num_output_nodes = 3\n",
    "num_layers = 1\n",
    "bidirectional = True\n",
    "dropout_rate = 0.4\n",
    "\n",
    "#Create the model\n",
    "model = RNNModel(vocab_size, embedding_dim, num_hidden_nodes,\n",
    "                 num_output_nodes, num_layers, bidirectional,dropout_rate)\n",
    "model.to(device)\n",
    "\n",
    "model"
   ]
  },
  {
   "cell_type": "code",
   "execution_count": 16,
   "metadata": {},
   "outputs": [],
   "source": [
    "#Trying transfer learning here\n",
    "# for name, params in model.named_parameters():\n",
    "#     if 'embedding' in name:\n",
    "#         params.requires_grad = False"
   ]
  },
  {
   "cell_type": "code",
   "execution_count": 46,
   "metadata": {},
   "outputs": [
    {
     "name": "stdout",
     "output_type": "stream",
     "text": [
      "Size of embedding matrix torch.Size([2298, 300])\n",
      "Number of trainable elements in the model 775099\n"
     ]
    }
   ],
   "source": [
    "#Set pretrained word embedding as weights for embedding layer\n",
    "embeddings = train_sentAB.vocab.vectors\n",
    "model.embedding.weight.data.copy_(embeddings)\n",
    "\n",
    "print(\"Size of embedding matrix {}\".format(embeddings.size()))\n",
    "\n",
    "num_elements = 0\n",
    "for params in model.parameters():\n",
    "    if params.requires_grad:\n",
    "        num_elements += params.numel()\n",
    "    \n",
    "print(\"Number of trainable elements in the model {}\".format(num_elements))"
   ]
  },
  {
   "cell_type": "code",
   "execution_count": 23,
   "metadata": {},
   "outputs": [],
   "source": [
    "#Optimizer and Loss\n",
    "# optimizer = optim.Adam(model.parameters(), lr=1e-2)\n",
    "optimizer = optim.SGD(model.parameters(), lr=1e-4, momentum=0.9)\n",
    "criterion = nn.CrossEntropyLoss()\n",
    "\n",
    "# scheduler = optim.lr_scheduler.CyclicLR(optimizer, base_lr=1e-3,\n",
    "#                                         max_lr=1e-2, step_size_up=1250, mode='triangular2')\n",
    "# scheduler = optim.lr_scheduler.StepLR(optimizer, step_size=6, gamma=0.1)\n",
    "scheduler = optim.lr_scheduler.MultiStepLR(optimizer, milestones=[8])\n",
    "\n",
    "#Softmax layer only used to get probabilties\n",
    "softmax = nn.LogSoftmax(dim=1)\n"
   ]
  },
  {
   "cell_type": "code",
   "execution_count": 19,
   "metadata": {},
   "outputs": [],
   "source": [
    "#Training loop\n",
    "\n",
    "def train():\n",
    "    iterations = len(train_dataset) / TRAIN_BATCH_SIZE\n",
    "\n",
    "    model.train()\n",
    "\n",
    "    running_loss = 0\n",
    "    running_correct = 0\n",
    "    phase = \"train\"\n",
    "#     criterion = nn.CrossEntropyLoss(weight=class_loss_weights[phase])\n",
    "    \n",
    "    for batch_idx, items in enumerate(train_iterator):\n",
    "\n",
    "        sys.stdout.write('\\r')\n",
    "        sys.stdout.write(\"{} Iteration :{}/{}\"\n",
    "                            .format(phase, batch_idx + 1, iterations))\n",
    "\n",
    "        optimizer.zero_grad()\n",
    "\n",
    "        #Get the text and length of sentences\n",
    "        text, text_lengths = items.train_sentAB\n",
    "        text = text.to(device)\n",
    "        text_lengths = text_lengths.to(device)\n",
    "\n",
    "        #Get labels of each batch\n",
    "        labels = items.train_label\n",
    "        labels = labels.to(device)\n",
    "\n",
    "        #Predictions are in size [1, ..]\n",
    "        outputs = model(text, text_lengths).squeeze()\n",
    "\n",
    "        #Calculate loss\n",
    "        loss = criterion(outputs, items.train_label)\n",
    "        \n",
    "        #Convert predictions to probabilities\n",
    "        probabilites = softmax(outputs)\n",
    "        #Give's the index of the node with the highest probability\n",
    "        predictions = torch.argmax(probabilites, dim=1)\n",
    "        correct = (predictions == labels).float()\n",
    "\n",
    "        loss.backward()   \n",
    "        optimizer.step()\n",
    "        \n",
    "        #Learning rate scheduler to improve convergence\n",
    "#         scheduler.step()\n",
    "\n",
    "        #Save the loss details for each epoch\n",
    "        running_loss += loss.item()\n",
    "        running_correct += correct.sum().item()\n",
    "\n",
    "    epoch_loss = running_loss / len(train_iterator)\n",
    "    epoch_accuracy = running_correct / len(train_dataset)\n",
    "    \n",
    "    return epoch_loss, epoch_accuracy"
   ]
  },
  {
   "cell_type": "code",
   "execution_count": 20,
   "metadata": {},
   "outputs": [],
   "source": [
    "#Evaluate the results\n",
    "\n",
    "def evaluate():\n",
    "    iterations = len(test_dataset) / TEST_BATCH_SIZE\n",
    "\n",
    "    model.eval()\n",
    "\n",
    "    running_loss = 0\n",
    "    running_correct = 0\n",
    "    phase = \"test\"\n",
    "#     criterion = nn.CrossEntropyLoss(weight=class_loss_weights[phase])\n",
    "    \n",
    "    with torch.no_grad():\n",
    "        for batch_idx, items in enumerate(test_iterator):\n",
    "\n",
    "            sys.stdout.write('\\r')\n",
    "            sys.stdout.write(\"{} Iteration :{}/{}\"\n",
    "                                .format(phase, batch_idx + 1, iterations))\n",
    "\n",
    "\n",
    "            #Get the text and length of sentences\n",
    "            text, text_lengths = items.test_sentAB\n",
    "            text = text.to(device)\n",
    "            text_lengths = text_lengths.to(device)\n",
    "\n",
    "            #Get labels of each batch\n",
    "            labels = items.test_label\n",
    "            labels = labels.to(device)\n",
    "\n",
    "            #Predictions are in size [1, ..]\n",
    "            outputs = model(text, text_lengths).squeeze()\n",
    "\n",
    "            #Calculate loss\n",
    "            loss = criterion(outputs, items.test_label)\n",
    "\n",
    "            #Convert predictions to probabilities\n",
    "            probabilites = softmax(outputs)\n",
    "            #Give's the index of the node with the highest probability\n",
    "            predictions = torch.argmax(probabilites, dim=1)\n",
    "            correct = (predictions == labels).float()\n",
    "\n",
    "            #Save the loss details for each epoch\n",
    "            running_loss += loss.item()\n",
    "            running_correct += correct.sum().item()\n",
    "\n",
    "        epoch_loss = running_loss / len(test_iterator)\n",
    "        epoch_accuracy = running_correct / len(test_dataset)\n",
    "    \n",
    "    return epoch_loss, epoch_accuracy"
   ]
  },
  {
   "cell_type": "code",
   "execution_count": 34,
   "metadata": {},
   "outputs": [
    {
     "name": "stdout",
     "output_type": "stream",
     "text": [
      "Epoch :1/6\n",
      "0.0001\n",
      "train Iteration :625/625.0\n",
      "test Iteration :379/379.0\n",
      "Train Loss :0.914 | Train Accuracy :0.574 | Eval Loss :0.949 | Eval Accuracy :0.565\n",
      "Epoch :2/6\n",
      "0.0001\n",
      "train Iteration :625/625.0\n",
      "test Iteration :379/379.0\n",
      "Train Loss :0.909 | Train Accuracy :0.577 | Eval Loss :0.949 | Eval Accuracy :0.565\n",
      "Epoch :3/6\n",
      "0.0001\n",
      "train Iteration :625/625.0\n",
      "test Iteration :379/379.0\n",
      "Train Loss :0.912 | Train Accuracy :0.578 | Eval Loss :0.949 | Eval Accuracy :0.565\n",
      "Epoch :4/6\n",
      "0.0001\n",
      "train Iteration :625/625.0\n",
      "test Iteration :379/379.0\n",
      "Train Loss :0.910 | Train Accuracy :0.580 | Eval Loss :0.949 | Eval Accuracy :0.565\n",
      "Epoch :5/6\n",
      "0.0001\n",
      "train Iteration :625/625.0\n",
      "test Iteration :379/379.0\n",
      "Train Loss :0.912 | Train Accuracy :0.575 | Eval Loss :0.949 | Eval Accuracy :0.565\n",
      "Epoch :6/6\n",
      "0.0001\n",
      "train Iteration :625/625.0\n",
      "test Iteration :379/379.0\n",
      "Train Loss :0.909 | Train Accuracy :0.578 | Eval Loss :0.949 | Eval Accuracy :0.565\n"
     ]
    }
   ],
   "source": [
    "\n",
    "num_epochs = 6\n",
    "\n",
    "for epoch in range(num_epochs):\n",
    "    \n",
    "    print(\"Epoch :{}/{}\".format(epoch + 1, num_epochs))\n",
    "    \n",
    "    print(optimizer.param_groups[0][\"lr\"])\n",
    "    \n",
    "    train_loss, train_acc = train() \n",
    "    print()\n",
    "    \n",
    "#     scheduler.step()\n",
    "    \n",
    "    test_loss, test_acc = evaluate() \n",
    "    print()\n",
    "    \n",
    "    print(\"Train Loss :{:.3f} | Train Accuracy :{:.3f} | \"\\\n",
    "          \"Eval Loss :{:.3f} | Eval Accuracy :{:.3f}\".format(train_loss, train_acc, test_loss, test_acc))"
   ]
  },
  {
   "cell_type": "code",
   "execution_count": 35,
   "metadata": {},
   "outputs": [],
   "source": [
    "#For saving the model\n",
    "# torch.save({ \"optimizer\" : optimizer.state_dict(),\n",
    "#              \"scheduler\" : scheduler.state_dict(),\n",
    "#              \"model\":model.state_dict(),\n",
    "#              \"epoch\" : 20}, '../Models/bilstm_task1_fn.pth')"
   ]
  },
  {
   "cell_type": "code",
   "execution_count": 47,
   "metadata": {},
   "outputs": [
    {
     "data": {
      "text/plain": [
       "<All keys matched successfully>"
      ]
     },
     "execution_count": 47,
     "metadata": {},
     "output_type": "execute_result"
    }
   ],
   "source": [
    "checkpoint = torch.load('../Models/bilstm_task1_fn.pth')\n",
    "model.load_state_dict(checkpoint[\"model\"])"
   ]
  },
  {
   "cell_type": "code",
   "execution_count": 25,
   "metadata": {},
   "outputs": [],
   "source": [
    "def prediction():\n",
    "    iterations = len(test_dataset) / TEST_BATCH_SIZE\n",
    "\n",
    "    model.eval()\n",
    "\n",
    "    _predictions = []\n",
    "    \n",
    "    with torch.no_grad():\n",
    "        for batch_idx, items in enumerate(test_iterator):\n",
    "\n",
    "            sys.stdout.write('\\r')\n",
    "            sys.stdout.write(\"{} Iteration :{}/{}\"\n",
    "                                .format(\"test\", batch_idx + 1, iterations))\n",
    "\n",
    "\n",
    "            #Get the text and length of sentences\n",
    "            text, text_lengths = items.test_sentAB\n",
    "            text = text.to(device)\n",
    "            text_lengths = text_lengths.to(device)\n",
    "\n",
    "            #Get labels of each batch\n",
    "            labels = items.test_label\n",
    "            labels = labels.to(device)\n",
    "\n",
    "            #Predictions are in size [1, ..]\n",
    "            outputs = model(text, text_lengths).squeeze()\n",
    "\n",
    "            #Convert predictions to probabilities\n",
    "            probabilites = softmax(outputs)\n",
    "            #Give's the index of the node with the highest probability\n",
    "            predictions = torch.argmax(probabilites, dim=1)\n",
    "\n",
    "            #Save the predictions in a list\n",
    "            _predictions += list(predictions.cpu().squeeze().numpy())\n",
    "            \n",
    "    return _predictions    "
   ]
  },
  {
   "cell_type": "code",
   "execution_count": 26,
   "metadata": {},
   "outputs": [
    {
     "name": "stdout",
     "output_type": "stream",
     "text": [
      "test Iteration :379/379.0"
     ]
    }
   ],
   "source": [
    "predictions = prediction()"
   ]
  },
  {
   "cell_type": "code",
   "execution_count": 29,
   "metadata": {},
   "outputs": [],
   "source": [
    "test_df = pd.read_csv('../Data/SICK/SICK test.csv')\n",
    "result_df = pd.DataFrame(columns=['pair_ID', 'entailment_judgment','label','prediction'])\n",
    "\n",
    "result_df['pair_ID'] = test_df['pair_ID']\n",
    "result_df['entailment_judgment'] = test_df['entailment_judgment']\n",
    "result_df['label'] = test_df['label']\n",
    "result_df['prediction'] = predictions"
   ]
  },
  {
   "cell_type": "code",
   "execution_count": 30,
   "metadata": {},
   "outputs": [],
   "source": [
    "result_df.to_csv('../Data/SICK/result.csv', index=False)"
   ]
  },
  {
   "cell_type": "code",
   "execution_count": 55,
   "metadata": {},
   "outputs": [
    {
     "name": "stdout",
     "output_type": "stream",
     "text": [
      "(tensor([[-0.5118, -1.4192, -1.8408],\n",
      "        [-0.4908, -1.1667, -2.5711],\n",
      "        [-0.5027, -1.2054, -2.3486],\n",
      "        [-0.4768, -1.2158, -2.4920],\n",
      "        [-0.4756, -1.2178, -2.4940],\n",
      "        [-0.8929, -1.5737, -0.9590],\n",
      "        [-0.5291, -1.1897, -2.2392],\n",
      "        [-0.7620, -1.5137, -1.1610],\n",
      "        [-0.7517, -1.5167, -1.1744],\n",
      "        [-0.4264, -1.2431, -2.8364],\n",
      "        [-0.5558, -1.3162, -1.8436],\n",
      "        [-0.4689, -1.1897, -2.6596],\n",
      "        [-0.5049, -1.3165, -2.0529]]), tensor([0, 0, 0, 0, 0, 0, 0, 0, 0, 0, 0, 0, 0]))\n",
      "(tensor([[-0.6405, -1.4067, -1.4783],\n",
      "        [-0.4954, -1.3200, -2.0912],\n",
      "        [-0.4891, -1.3153, -2.1335],\n",
      "        [-0.4621, -1.2235, -2.5793],\n",
      "        [-0.5291, -1.2354, -2.1191],\n",
      "        [-0.3858, -1.3515, -2.7933],\n",
      "        [-0.5276, -1.3893, -1.8280],\n",
      "        [-0.3846, -1.3449, -2.8357],\n",
      "        [-0.6256, -1.3382, -1.5958],\n",
      "        [-0.5667, -1.4725, -1.5934],\n",
      "        [-0.4426, -1.3415, -2.3416],\n",
      "        [-0.7428, -1.7278, -1.0598],\n",
      "        [-0.8336, -1.7632, -0.9314]]), tensor([0, 0, 0, 0, 0, 0, 0, 0, 0, 0, 0, 0, 0]))\n"
     ]
    }
   ],
   "source": [
    "activation = nn.LogSoftmax(dim=1)\n",
    "\n",
    "model.eval()\n",
    "with torch.no_grad():\n",
    "    for idx, items in enumerate(test_iterator):\n",
    "            #Get the text and length of sentences\n",
    "            text, text_lengths = items.test_sentAB\n",
    "            text = text.to(device)\n",
    "            text_lengths = text_lengths.to(device)\n",
    "\n",
    "            #Get labels of each batch\n",
    "            labels = items.test_label\n",
    "            labels = labels.to(device)\n",
    "            \n",
    "            #Predictions are in size [1, ..]\n",
    "            outputs = model(text, text_lengths).squeeze()\n",
    "            softmax_output = activation(outputs)\n",
    "            pred = torch.argmax(softmax_output, dim=1)\n",
    "            \n",
    "            print((softmax_output, pred))\n",
    "            \n",
    "            if idx == 1:\n",
    "                break\n"
   ]
  },
  {
   "cell_type": "code",
   "execution_count": null,
   "metadata": {},
   "outputs": [],
   "source": [
    "# eval_loss, eval_acc = evaluate()\n",
    "# eval_loss, eval_acc"
   ]
  },
  {
   "cell_type": "code",
   "execution_count": 4,
   "metadata": {},
   "outputs": [],
   "source": [
    "# #Preprocessing the data\n",
    "# df = pd.read_csv('../Data/SICK/SICK val.txt', sep=\"\\t\")\n",
    "\n",
    "# label = []\n",
    "\n",
    "# for val in df['entailment_judgment']:\n",
    "#     if val == \"CONTRADICTION\":\n",
    "#         label.append(2)\n",
    "#     elif val == \"ENTAILMENT\":\n",
    "#         label.append(1)\n",
    "#     else:\n",
    "#         label.append(0)\n",
    "\n",
    "# df['label'] = label\n",
    "# input_sent = []\n",
    "\n",
    "# for idx, row in df.iterrows():\n",
    "#     input_sent.append(row['sentence_A'] + ' <sep> ' + row['sentence_B'])\n",
    "\n",
    "# df['sentAB'] = input_sent\n",
    "\n",
    "# df.to_csv('../DATA/SICK/SICK val.csv', index=False)"
   ]
  },
  {
   "cell_type": "code",
   "execution_count": 5,
   "metadata": {},
   "outputs": [],
   "source": [
    "# train_df = pd.read_csv('../Data/SICK/SICK train.csv')\n",
    "# val_df = pd.read_csv('../Data/SICK/SICK val.csv')\n",
    "\n",
    "# train_val_df = pd.concat([train_df, val_df], axis=0)\n",
    "# train_val_df.reset_index(inplace=True)\n",
    "# train_val_df.drop(columns='index', inplace=True)\n",
    "\n",
    "# train_val_df.to_csv('../Data/SICK/SICK train val.csv', index=False)"
   ]
  }
 ],
 "metadata": {
  "kernelspec": {
   "display_name": "Python 3",
   "language": "python",
   "name": "python3"
  },
  "language_info": {
   "codemirror_mode": {
    "name": "ipython",
    "version": 3
   },
   "file_extension": ".py",
   "mimetype": "text/x-python",
   "name": "python",
   "nbconvert_exporter": "python",
   "pygments_lexer": "ipython3",
   "version": "3.7.6"
  }
 },
 "nbformat": 4,
 "nbformat_minor": 4
}
