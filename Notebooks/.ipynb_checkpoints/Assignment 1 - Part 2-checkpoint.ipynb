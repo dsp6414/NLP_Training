{
 "cells": [
  {
   "cell_type": "code",
   "execution_count": 1,
   "metadata": {},
   "outputs": [],
   "source": [
    "import pandas as pd\n",
    "import sys\n",
    "sys.path.append('../word-embeddings-benchmark')\n",
    "\n",
    "from web.datasets.similarity import fetch_MTurk, fetch_MEN, fetch_WS353, fetch_RG65, fetch_RW, fetch_SimLex999, fetch_TR9856\n",
    "from web.datasets.analogy import fetch_google_analogy\n",
    "\n",
    "#Important for converting embeddings to managable format\n",
    "from web.embedding import Embedding\n",
    "from web.embeddings import fetch_HPCA\n",
    "from web.evaluate import evaluate_similarity, evaluate_analogy"
   ]
  },
  {
   "cell_type": "markdown",
   "metadata": {},
   "source": [
    "## Embeddings\n",
    "All embeddings are used without normalization\n",
    "\n",
    "### GloVe:\n",
    "400,000 words, 6B tokens with 50, 100, 200, 300 dimensions\n",
    "\n",
    "### Fast Text\n",
    "wiki-news 16B tokens with 300 dimensions\n",
    "\n",
    "### LexVec\n",
    "Note: LexVec Common Crawl 58B tokens , 300 dimensions was 5GB. Hence uable to load onto memory\n",
    "Word + Context Vectors, 7B tokens, 300 dimensions\n",
    "\n",
    "### ConceptNet Number batch\n",
    "_ tokens, 300 dimensions\n"
   ]
  },
  {
   "cell_type": "code",
   "execution_count": 10,
   "metadata": {},
   "outputs": [
    {
     "name": "stderr",
     "output_type": "stream",
     "text": [
      "We ignored line number 400000 because of errors in parsing\n",
      "index 400000 is out of bounds for axis 0 with size 400000\n"
     ]
    }
   ],
   "source": [
    "#Load time is about 5-10 mins\n",
    "glove = Embedding.from_glove('../Data/Embeddings/GloVe/glove.6B.300d.txt', 400000, 300)"
   ]
  },
  {
   "cell_type": "code",
   "execution_count": 11,
   "metadata": {},
   "outputs": [],
   "source": [
    "#Load time is about 10-15 mins\n",
    "fast_text = Embedding.from_word2vec('../Data/Embeddings/FastText/wiki-news-300d-1M.vec')"
   ]
  },
  {
   "cell_type": "code",
   "execution_count": 12,
   "metadata": {},
   "outputs": [],
   "source": [
    "#Load time is about 10 mins\n",
    "lex_vec = Embedding.from_word2vec('../Data/Embeddings/LexVec/lexvec.enwiki+newscrawl.300d.W+C.pos.vectors')"
   ]
  },
  {
   "cell_type": "code",
   "execution_count": 13,
   "metadata": {},
   "outputs": [],
   "source": [
    "concept_net = Embedding.from_word2vec('../Data/Embeddings/ConceptNet/numberbatch-en.txt')"
   ]
  },
  {
   "cell_type": "markdown",
   "metadata": {},
   "source": [
    "## Similarity Task"
   ]
  },
  {
   "cell_type": "markdown",
   "metadata": {},
   "source": [
    "MTurk <br/>\n",
    "Evaluated by 10 people on a scale of  1 - 5. Scores are multipled by 2\n",
    "\n",
    "MEN <br/>\n",
    "Pairs: 3000\n",
    "Scores range : \n",
    "Natural form not lemmatized form. Scores were rescaled to stay within 0 - 10 range\n",
    "\n",
    "WS353 <br/>\n",
    "Pairs: 353\n",
    "Scores range : 0 - 10\n",
    "\n",
    "RG65 <br/>\n",
    "Pairs: 65\n",
    "Scores range : 0 - 4. Scaled by factor 10/4\n",
    "\n",
    "Rare Words <br/>\n",
    "Pairs: 2034\n",
    "Scores range : 0 - 10\n",
    "\n",
    "SimLex 999 <br/>\n",
    "Pairs: 999\n",
    "Scores range : 0 - 10\n",
    "\n",
    "TR9856 <br/>\n",
    "Pairs: 9856\n",
    "Scores range : 0 - 1\n",
    "\n",
    "\n",
    "| Embedding  | Dim  |  MTurk |  MEN  | WS353 | RG65 |  RW  | Sim999 |  TR9856  |  \n",
    "| ---------- | ---- | ------ |\n",
    "| Glove      |      |        |\n",
    "| Glove      |      |        |\n",
    "| FastText   | 300  | 0.7022 |\n",
    "| LexVec     | 300  | 0.6480 |\n",
    "| ConceptNet | 300  | 0.7188 |"
   ]
  },
  {
   "cell_type": "code",
   "execution_count": 15,
   "metadata": {},
   "outputs": [],
   "source": [
    "#All Similiarty datasets\n",
    "mturk = fetch_MTurk('../Data/Similarity/EN-TRUK.txt')\n",
    "men = fetch_MEN('../Data/Similarity/EN-MEN-LEM.txt')\n",
    "ws353 = fetch_WS353('../Data/Similarity/WS353_combined.csv')\n",
    "rg65 = fetch_RG65('../Data/Similarity/EN-RG-65.txt')\n",
    "rw = fetch_RW('../Data/Similarity/RW.txt')\n",
    "simlex = fetch_SimLex999('../Data/Similarity/EN-SIM999.txt')\n",
    "tr9856 = fetch_TR9856('../Data/Similarity/TR9856.csv')\n",
    "\n",
    "datasets = {\n",
    "    \"mturk\" : mturk,\n",
    "    \"men\" : men,\n",
    "    \"ws353\" : ws353,\n",
    "    \"rg65\" : rg65,\n",
    "    \"rw\" : rw,\n",
    "    \"simlex\" : simlex,\n",
    "    \"tr9856\" : tr9856\n",
    "}"
   ]
  },
  {
   "cell_type": "code",
   "execution_count": 21,
   "metadata": {},
   "outputs": [],
   "source": [
    "def compute_similarity(embedding):\n",
    "    results_df = pd.DataFrame(columns=[\"Dataset\", \"Spearman Correlation value\"])\n",
    "    \n",
    "    for key, value in datasets.items():\n",
    "        corr_val = evaluate_similarity(embedding, value['X'], value['y'])\n",
    "        results_df.loc[len(results_df)] = [key, corr_val]\n",
    "        \n",
    "    return results_df"
   ]
  },
  {
   "cell_type": "code",
   "execution_count": 24,
   "metadata": {},
   "outputs": [
    {
     "name": "stderr",
     "output_type": "stream",
     "text": [
      "Missing 24 words. Will replace them with mean vector\n",
      "Missing 260 words. Will replace them with mean vector\n",
      "Missing 12079 words. Will replace them with mean vector\n"
     ]
    },
    {
     "data": {
      "text/html": [
       "<div>\n",
       "<style scoped>\n",
       "    .dataframe tbody tr th:only-of-type {\n",
       "        vertical-align: middle;\n",
       "    }\n",
       "\n",
       "    .dataframe tbody tr th {\n",
       "        vertical-align: top;\n",
       "    }\n",
       "\n",
       "    .dataframe thead th {\n",
       "        text-align: right;\n",
       "    }\n",
       "</style>\n",
       "<table border=\"1\" class=\"dataframe\">\n",
       "  <thead>\n",
       "    <tr style=\"text-align: right;\">\n",
       "      <th></th>\n",
       "      <th>Dataset</th>\n",
       "      <th>Spearman Correlation value</th>\n",
       "    </tr>\n",
       "  </thead>\n",
       "  <tbody>\n",
       "    <tr>\n",
       "      <th>0</th>\n",
       "      <td>mturk</td>\n",
       "      <td>0.633182</td>\n",
       "    </tr>\n",
       "    <tr>\n",
       "      <th>1</th>\n",
       "      <td>men</td>\n",
       "      <td>0.737465</td>\n",
       "    </tr>\n",
       "    <tr>\n",
       "      <th>2</th>\n",
       "      <td>ws353</td>\n",
       "      <td>0.543524</td>\n",
       "    </tr>\n",
       "    <tr>\n",
       "      <th>3</th>\n",
       "      <td>rg65</td>\n",
       "      <td>0.769525</td>\n",
       "    </tr>\n",
       "    <tr>\n",
       "      <th>4</th>\n",
       "      <td>rw</td>\n",
       "      <td>0.367045</td>\n",
       "    </tr>\n",
       "    <tr>\n",
       "      <th>5</th>\n",
       "      <td>simlex</td>\n",
       "      <td>0.370500</td>\n",
       "    </tr>\n",
       "    <tr>\n",
       "      <th>6</th>\n",
       "      <td>tr9856</td>\n",
       "      <td>0.099480</td>\n",
       "    </tr>\n",
       "  </tbody>\n",
       "</table>\n",
       "</div>"
      ],
      "text/plain": [
       "  Dataset  Spearman Correlation value\n",
       "0   mturk                    0.633182\n",
       "1     men                    0.737465\n",
       "2   ws353                    0.543524\n",
       "3    rg65                    0.769525\n",
       "4      rw                    0.367045\n",
       "5  simlex                    0.370500\n",
       "6  tr9856                    0.099480"
      ]
     },
     "execution_count": 24,
     "metadata": {},
     "output_type": "execute_result"
    }
   ],
   "source": [
    "#GloVe\n",
    "compute_similarity(glove)"
   ]
  },
  {
   "cell_type": "code",
   "execution_count": 23,
   "metadata": {},
   "outputs": [
    {
     "name": "stderr",
     "output_type": "stream",
     "text": [
      "Missing 2 words. Will replace them with mean vector\n",
      "Missing 68 words. Will replace them with mean vector\n",
      "Missing 12191 words. Will replace them with mean vector\n"
     ]
    },
    {
     "data": {
      "text/html": [
       "<div>\n",
       "<style scoped>\n",
       "    .dataframe tbody tr th:only-of-type {\n",
       "        vertical-align: middle;\n",
       "    }\n",
       "\n",
       "    .dataframe tbody tr th {\n",
       "        vertical-align: top;\n",
       "    }\n",
       "\n",
       "    .dataframe thead th {\n",
       "        text-align: right;\n",
       "    }\n",
       "</style>\n",
       "<table border=\"1\" class=\"dataframe\">\n",
       "  <thead>\n",
       "    <tr style=\"text-align: right;\">\n",
       "      <th></th>\n",
       "      <th>Dataset</th>\n",
       "      <th>Spearman Correlation value</th>\n",
       "    </tr>\n",
       "  </thead>\n",
       "  <tbody>\n",
       "    <tr>\n",
       "      <th>0</th>\n",
       "      <td>mturk</td>\n",
       "      <td>0.702289</td>\n",
       "    </tr>\n",
       "    <tr>\n",
       "      <th>1</th>\n",
       "      <td>men</td>\n",
       "      <td>0.790633</td>\n",
       "    </tr>\n",
       "    <tr>\n",
       "      <th>2</th>\n",
       "      <td>ws353</td>\n",
       "      <td>0.733276</td>\n",
       "    </tr>\n",
       "    <tr>\n",
       "      <th>3</th>\n",
       "      <td>rg65</td>\n",
       "      <td>0.846259</td>\n",
       "    </tr>\n",
       "    <tr>\n",
       "      <th>4</th>\n",
       "      <td>rw</td>\n",
       "      <td>0.513497</td>\n",
       "    </tr>\n",
       "    <tr>\n",
       "      <th>5</th>\n",
       "      <td>simlex</td>\n",
       "      <td>0.449965</td>\n",
       "    </tr>\n",
       "    <tr>\n",
       "      <th>6</th>\n",
       "      <td>tr9856</td>\n",
       "      <td>0.164246</td>\n",
       "    </tr>\n",
       "  </tbody>\n",
       "</table>\n",
       "</div>"
      ],
      "text/plain": [
       "  Dataset  Spearman Correlation value\n",
       "0   mturk                    0.702289\n",
       "1     men                    0.790633\n",
       "2   ws353                    0.733276\n",
       "3    rg65                    0.846259\n",
       "4      rw                    0.513497\n",
       "5  simlex                    0.449965\n",
       "6  tr9856                    0.164246"
      ]
     },
     "execution_count": 23,
     "metadata": {},
     "output_type": "execute_result"
    }
   ],
   "source": [
    "#Fast Text\n",
    "compute_similarity(fast_text)"
   ]
  },
  {
   "cell_type": "code",
   "execution_count": 25,
   "metadata": {},
   "outputs": [
    {
     "name": "stderr",
     "output_type": "stream",
     "text": [
      "Missing 1 words. Will replace them with mean vector\n",
      "Missing 24 words. Will replace them with mean vector\n",
      "Missing 288 words. Will replace them with mean vector\n",
      "Missing 1 words. Will replace them with mean vector\n",
      "Missing 12087 words. Will replace them with mean vector\n"
     ]
    },
    {
     "data": {
      "text/html": [
       "<div>\n",
       "<style scoped>\n",
       "    .dataframe tbody tr th:only-of-type {\n",
       "        vertical-align: middle;\n",
       "    }\n",
       "\n",
       "    .dataframe tbody tr th {\n",
       "        vertical-align: top;\n",
       "    }\n",
       "\n",
       "    .dataframe thead th {\n",
       "        text-align: right;\n",
       "    }\n",
       "</style>\n",
       "<table border=\"1\" class=\"dataframe\">\n",
       "  <thead>\n",
       "    <tr style=\"text-align: right;\">\n",
       "      <th></th>\n",
       "      <th>Dataset</th>\n",
       "      <th>Spearman Correlation value</th>\n",
       "    </tr>\n",
       "  </thead>\n",
       "  <tbody>\n",
       "    <tr>\n",
       "      <th>0</th>\n",
       "      <td>mturk</td>\n",
       "      <td>0.648025</td>\n",
       "    </tr>\n",
       "    <tr>\n",
       "      <th>1</th>\n",
       "      <td>men</td>\n",
       "      <td>0.765485</td>\n",
       "    </tr>\n",
       "    <tr>\n",
       "      <th>2</th>\n",
       "      <td>ws353</td>\n",
       "      <td>0.638120</td>\n",
       "    </tr>\n",
       "    <tr>\n",
       "      <th>3</th>\n",
       "      <td>rg65</td>\n",
       "      <td>0.793260</td>\n",
       "    </tr>\n",
       "    <tr>\n",
       "      <th>4</th>\n",
       "      <td>rw</td>\n",
       "      <td>0.446721</td>\n",
       "    </tr>\n",
       "    <tr>\n",
       "      <th>5</th>\n",
       "      <td>simlex</td>\n",
       "      <td>0.362670</td>\n",
       "    </tr>\n",
       "    <tr>\n",
       "      <th>6</th>\n",
       "      <td>tr9856</td>\n",
       "      <td>0.131299</td>\n",
       "    </tr>\n",
       "  </tbody>\n",
       "</table>\n",
       "</div>"
      ],
      "text/plain": [
       "  Dataset  Spearman Correlation value\n",
       "0   mturk                    0.648025\n",
       "1     men                    0.765485\n",
       "2   ws353                    0.638120\n",
       "3    rg65                    0.793260\n",
       "4      rw                    0.446721\n",
       "5  simlex                    0.362670\n",
       "6  tr9856                    0.131299"
      ]
     },
     "execution_count": 25,
     "metadata": {},
     "output_type": "execute_result"
    }
   ],
   "source": [
    "#Lex Vec\n",
    "compute_similarity(lex_vec)"
   ]
  },
  {
   "cell_type": "code",
   "execution_count": 26,
   "metadata": {},
   "outputs": [
    {
     "name": "stderr",
     "output_type": "stream",
     "text": [
      "Missing 24 words. Will replace them with mean vector\n",
      "Missing 204 words. Will replace them with mean vector\n",
      "Missing 12142 words. Will replace them with mean vector\n"
     ]
    },
    {
     "data": {
      "text/html": [
       "<div>\n",
       "<style scoped>\n",
       "    .dataframe tbody tr th:only-of-type {\n",
       "        vertical-align: middle;\n",
       "    }\n",
       "\n",
       "    .dataframe tbody tr th {\n",
       "        vertical-align: top;\n",
       "    }\n",
       "\n",
       "    .dataframe thead th {\n",
       "        text-align: right;\n",
       "    }\n",
       "</style>\n",
       "<table border=\"1\" class=\"dataframe\">\n",
       "  <thead>\n",
       "    <tr style=\"text-align: right;\">\n",
       "      <th></th>\n",
       "      <th>Dataset</th>\n",
       "      <th>Spearman Correlation value</th>\n",
       "    </tr>\n",
       "  </thead>\n",
       "  <tbody>\n",
       "    <tr>\n",
       "      <th>0</th>\n",
       "      <td>mturk</td>\n",
       "      <td>0.718810</td>\n",
       "    </tr>\n",
       "    <tr>\n",
       "      <th>1</th>\n",
       "      <td>men</td>\n",
       "      <td>0.866130</td>\n",
       "    </tr>\n",
       "    <tr>\n",
       "      <th>2</th>\n",
       "      <td>ws353</td>\n",
       "      <td>0.768220</td>\n",
       "    </tr>\n",
       "    <tr>\n",
       "      <th>3</th>\n",
       "      <td>rg65</td>\n",
       "      <td>0.924829</td>\n",
       "    </tr>\n",
       "    <tr>\n",
       "      <th>4</th>\n",
       "      <td>rw</td>\n",
       "      <td>0.568671</td>\n",
       "    </tr>\n",
       "    <tr>\n",
       "      <th>5</th>\n",
       "      <td>simlex</td>\n",
       "      <td>0.626787</td>\n",
       "    </tr>\n",
       "    <tr>\n",
       "      <th>6</th>\n",
       "      <td>tr9856</td>\n",
       "      <td>0.132052</td>\n",
       "    </tr>\n",
       "  </tbody>\n",
       "</table>\n",
       "</div>"
      ],
      "text/plain": [
       "  Dataset  Spearman Correlation value\n",
       "0   mturk                    0.718810\n",
       "1     men                    0.866130\n",
       "2   ws353                    0.768220\n",
       "3    rg65                    0.924829\n",
       "4      rw                    0.568671\n",
       "5  simlex                    0.626787\n",
       "6  tr9856                    0.132052"
      ]
     },
     "execution_count": 26,
     "metadata": {},
     "output_type": "execute_result"
    }
   ],
   "source": [
    "#ConceptNet Number batch\n",
    "compute_similarity(concept_net)"
   ]
  },
  {
   "cell_type": "markdown",
   "metadata": {},
   "source": [
    "## Analogy"
   ]
  },
  {
   "cell_type": "markdown",
   "metadata": {},
   "source": [
    "### Google Analogy\n",
    "\n",
    "Experiments (In terms of overall accuracy on all categories):<br/>\n",
    "Per parameter results are presented as tuples of (Overall accuracy %, number of corrects, total number of words) <br/>\n",
    "Results are provided with add rather than mul <br/>\n",
    "<br/>\n",
    "\n",
    "<b>GloVe:</b> <br/> \n",
    "<i>(Evaluation time: 15 mins on average)</i> <br/>\n",
    "* 300d : 65%, 12723, 19544\n",
    "* 200d : 60.8%, 11894, 19544\n",
    "* 100d : 49.7% , 9730, 19544\n",
    "* 50d  : 20.4%, 3997, 19544 \n",
    "\n",
    "<b>FastText:</b> <br/>\n",
    "<i>(Evaluation time: 20 mins)</i> <br/>\n",
    "* 300d : 9.2%, 1815, 19544\n",
    "\n",
    "<b>LexVec </b>\n",
    "* 300d : 60.4%, 11805, 19544\n",
    "\n",
    "<b> ConceptNet </b>\n",
    "* 300d : 31.9%, 6242, 19544"
   ]
  },
  {
   "cell_type": "code",
   "execution_count": 3,
   "metadata": {},
   "outputs": [],
   "source": [
    "google_analogy = fetch_google_analogy('../Data/Analogy/EN-GOOGLE.txt')"
   ]
  },
  {
   "cell_type": "code",
   "execution_count": 46,
   "metadata": {},
   "outputs": [],
   "source": [
    "results = evaluate_analogy(concept_net, google_analogy['X'], google_analogy['y'], category=google_analogy['category'])"
   ]
  },
  {
   "cell_type": "code",
   "execution_count": 47,
   "metadata": {},
   "outputs": [
    {
     "data": {
      "text/html": [
       "<div>\n",
       "<style scoped>\n",
       "    .dataframe tbody tr th:only-of-type {\n",
       "        vertical-align: middle;\n",
       "    }\n",
       "\n",
       "    .dataframe tbody tr th {\n",
       "        vertical-align: top;\n",
       "    }\n",
       "\n",
       "    .dataframe thead th {\n",
       "        text-align: right;\n",
       "    }\n",
       "</style>\n",
       "<table border=\"1\" class=\"dataframe\">\n",
       "  <thead>\n",
       "    <tr style=\"text-align: right;\">\n",
       "      <th></th>\n",
       "      <th>accuracy</th>\n",
       "      <th>correct</th>\n",
       "      <th>count</th>\n",
       "    </tr>\n",
       "  </thead>\n",
       "  <tbody>\n",
       "    <tr>\n",
       "      <th>all</th>\n",
       "      <td>0.319382</td>\n",
       "      <td>6242</td>\n",
       "      <td>19544</td>\n",
       "    </tr>\n",
       "    <tr>\n",
       "      <th>gram1-adjective-to-adverb</th>\n",
       "      <td>0.116935</td>\n",
       "      <td>116</td>\n",
       "      <td>992</td>\n",
       "    </tr>\n",
       "    <tr>\n",
       "      <th>gram8-plural</th>\n",
       "      <td>0.162162</td>\n",
       "      <td>216</td>\n",
       "      <td>1332</td>\n",
       "    </tr>\n",
       "    <tr>\n",
       "      <th>city-in-state</th>\n",
       "      <td>0.158087</td>\n",
       "      <td>390</td>\n",
       "      <td>2467</td>\n",
       "    </tr>\n",
       "    <tr>\n",
       "      <th>gram3-comparative</th>\n",
       "      <td>0.554054</td>\n",
       "      <td>738</td>\n",
       "      <td>1332</td>\n",
       "    </tr>\n",
       "    <tr>\n",
       "      <th>gram7-past-tense</th>\n",
       "      <td>0.291026</td>\n",
       "      <td>454</td>\n",
       "      <td>1560</td>\n",
       "    </tr>\n",
       "    <tr>\n",
       "      <th>gram2-opposite</th>\n",
       "      <td>0.096059</td>\n",
       "      <td>78</td>\n",
       "      <td>812</td>\n",
       "    </tr>\n",
       "    <tr>\n",
       "      <th>gram4-superlative</th>\n",
       "      <td>0.680036</td>\n",
       "      <td>763</td>\n",
       "      <td>1122</td>\n",
       "    </tr>\n",
       "    <tr>\n",
       "      <th>gram5-present-participle</th>\n",
       "      <td>0.242424</td>\n",
       "      <td>256</td>\n",
       "      <td>1056</td>\n",
       "    </tr>\n",
       "    <tr>\n",
       "      <th>gram6-nationality-adjective</th>\n",
       "      <td>0.537211</td>\n",
       "      <td>859</td>\n",
       "      <td>1599</td>\n",
       "    </tr>\n",
       "    <tr>\n",
       "      <th>currency</th>\n",
       "      <td>0.128176</td>\n",
       "      <td>111</td>\n",
       "      <td>866</td>\n",
       "    </tr>\n",
       "    <tr>\n",
       "      <th>gram9-plural-verbs</th>\n",
       "      <td>0.243678</td>\n",
       "      <td>212</td>\n",
       "      <td>870</td>\n",
       "    </tr>\n",
       "    <tr>\n",
       "      <th>capital-world</th>\n",
       "      <td>0.388815</td>\n",
       "      <td>1759</td>\n",
       "      <td>4524</td>\n",
       "    </tr>\n",
       "    <tr>\n",
       "      <th>family</th>\n",
       "      <td>0.310277</td>\n",
       "      <td>157</td>\n",
       "      <td>506</td>\n",
       "    </tr>\n",
       "    <tr>\n",
       "      <th>capital-common-countries</th>\n",
       "      <td>0.262846</td>\n",
       "      <td>133</td>\n",
       "      <td>506</td>\n",
       "    </tr>\n",
       "  </tbody>\n",
       "</table>\n",
       "</div>"
      ],
      "text/plain": [
       "                             accuracy  correct  count\n",
       "all                          0.319382     6242  19544\n",
       "gram1-adjective-to-adverb    0.116935      116    992\n",
       "gram8-plural                 0.162162      216   1332\n",
       "city-in-state                0.158087      390   2467\n",
       "gram3-comparative            0.554054      738   1332\n",
       "gram7-past-tense             0.291026      454   1560\n",
       "gram2-opposite               0.096059       78    812\n",
       "gram4-superlative            0.680036      763   1122\n",
       "gram5-present-participle     0.242424      256   1056\n",
       "gram6-nationality-adjective  0.537211      859   1599\n",
       "currency                     0.128176      111    866\n",
       "gram9-plural-verbs           0.243678      212    870\n",
       "capital-world                0.388815     1759   4524\n",
       "family                       0.310277      157    506\n",
       "capital-common-countries     0.262846      133    506"
      ]
     },
     "execution_count": 47,
     "metadata": {},
     "output_type": "execute_result"
    }
   ],
   "source": [
    "results"
   ]
  },
  {
   "cell_type": "markdown",
   "metadata": {},
   "source": [
    "## List of similarity datasets to be evaluated:\n",
    "MTurk, MEN, WS353, Rubenstein and Goodenough, Rare Words, SimLex999, TR9856 "
   ]
  },
  {
   "cell_type": "code",
   "execution_count": 2,
   "metadata": {},
   "outputs": [],
   "source": [
    "#Just downloading the files to compare and ensure I have the right datasets\n",
    "\n",
    "\n",
    "# dataset = fetch_MTurk()  #Downloaded. Yet to be understood\n",
    "dataset = fetch_MEN()   #Not Downloaded\n",
    "# dataset = fetch_WS353(\"relatedness\") #Downloaded. Difference between relatedness and attributional\n",
    "# dataset = fetch_RG65() #Downloaded : Evaluate\n",
    "# dataset = fetch_RW() #Downloaded : Downloaded"
   ]
  },
  {
   "cell_type": "code",
   "execution_count": 3,
   "metadata": {},
   "outputs": [
    {
     "data": {
      "text/plain": [
       "{'X': array([['sun', 'sunlight'],\n",
       "        ['automobile', 'car'],\n",
       "        ['river', 'water'],\n",
       "        ...,\n",
       "        ['muscle', 'tulip'],\n",
       "        ['bikini', 'pizza'],\n",
       "        ['bakery', 'zebra']], dtype=object), 'y': array([[10. ],\n",
       "        [10. ],\n",
       "        [ 9.8],\n",
       "        ...,\n",
       "        [ 0.2],\n",
       "        [ 0.2],\n",
       "        [ 0. ]])}"
      ]
     },
     "execution_count": 3,
     "metadata": {},
     "output_type": "execute_result"
    }
   ],
   "source": [
    "dataset"
   ]
  }
 ],
 "metadata": {
  "kernelspec": {
   "display_name": "Python 3",
   "language": "python",
   "name": "python3"
  },
  "language_info": {
   "codemirror_mode": {
    "name": "ipython",
    "version": 3
   },
   "file_extension": ".py",
   "mimetype": "text/x-python",
   "name": "python",
   "nbconvert_exporter": "python",
   "pygments_lexer": "ipython3",
   "version": "3.6.6"
  }
 },
 "nbformat": 4,
 "nbformat_minor": 4
}
