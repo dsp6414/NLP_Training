{
 "cells": [
  {
   "cell_type": "code",
   "execution_count": 1,
   "metadata": {},
   "outputs": [],
   "source": [
    "import requests"
   ]
  },
  {
   "cell_type": "code",
   "execution_count": 8,
   "metadata": {},
   "outputs": [],
   "source": [
    "#Get the content and write to data file.\n",
    "#Only use if required\n",
    "data = requests.get('http://www.site.uottawa.ca/~diana/csi5386/A1_2020/microblog2011.txt')\n",
    "\n",
    "with open('../Data/microblog2011.txt', 'wb') as f:\n",
    "    f.write(data.content)"
   ]
  },
  {
   "cell_type": "code",
   "execution_count": 28,
   "metadata": {},
   "outputs": [],
   "source": [
    "#Read the whole file\n",
    "file_content =  open('../Data/microblog2011.txt', 'r', encoding='utf-8-sig')"
   ]
  },
  {
   "cell_type": "code",
   "execution_count": 29,
   "metadata": {},
   "outputs": [
    {
     "data": {
      "text/plain": [
       "48401"
      ]
     },
     "execution_count": 29,
     "metadata": {},
     "output_type": "execute_result"
    }
   ],
   "source": [
    "tweets = [x for x in file_content.readlines()]\n",
    "len(tweets)"
   ]
  },
  {
   "cell_type": "code",
   "execution_count": 30,
   "metadata": {},
   "outputs": [
    {
     "data": {
      "text/plain": [
       "['Save BBC World Service from Savage Cuts http://www.petitionbuzz.com/petitions/savews\\n',\n",
       " 'a lot of people always make fun about the end of the world but the question is..\"ARE U READY FOR IT?..\\n',\n",
       " 'ReThink Group positive in outlook: Technology staffing specialist the ReThink Group expects revenues to be “marg... http://bit.ly/hFjtmY\\n',\n",
       " \"'Zombie' fund manager Phoenix appoints new CEO: Phoenix buys up funds that have been closed to new business and ... http://bit.ly/dXrlH5\\n\",\n",
       " 'Latest:: Top World Releases http://globalclassified.net/2011/02/top-world-releases-2/\\n',\n",
       " \"CDT presents ALICE IN WONDERLAND - Catonsville Dinner has posted 'CDT presents ALICE IN WONDERLAND' to the... http://fb.me/GMicayT3\\n\",\n",
       " 'Territory Manager: Location: Calgary, Alberta, CANADA Job Category: bu... http://bit.ly/e3o7mt #jobs\\n',\n",
       " \"I cud murder sum1 today n not even flinch I'm tht fukin angry today\\n\",\n",
       " \"BBC News - Today - Free school funding plans 'lack transparency' - http://news.bbc.co.uk/today/hi/today/newsid_9389000/9389467.stm\\xa0…\\n\",\n",
       " 'Manchester City Council details saving cuts plan: http://bbc.in/fYPYPC ...Depressing. Apparently we’re 4th most deprived & top 5 hardest hit\\n',\n",
       " 'http://bit.ly/e0ujdP, if you are interested in professional global translation services\\n',\n",
       " \"Fitness First to float but isn't the full service model dead ? http://bit.ly/evflEb\\n\",\n",
       " 'David Cook ! http://bit.ly/fkj2gk has the mostest beautiful smile in the world!\\n',\n",
       " 'Piss off. Cnt stand lick asses\\n',\n",
       " 'BEWARE THE BLUE MEANIES: http://bit.ly/hu8iJz #cuts #thebluemeanies\\n',\n",
       " 'Como perde os dentes no World Of Warcraft - Via Alisson http://ow.ly/1beBPo\\n',\n",
       " \"How exciting! RT @BunchesUK: Hello! What's happening in your world? We're all gearing up for #Valentines with bouquets flying out the door.\\n\",\n",
       " \"I'd very much appreciate it if people would stop broadcasting asking me to add people on BBM.\\n\",\n",
       " '@samanthaprabu sam i knw u r a cricket fan r u watching any of the world cup matches\\n',\n",
       " \"John Baer: Who didn't see this coming?: TO THOSE who know Ed and Midge Rendell - heck, to the Philly world at la... http://bit.ly/ii6WEO\\n\"]"
      ]
     },
     "execution_count": 30,
     "metadata": {},
     "output_type": "execute_result"
    }
   ],
   "source": [
    "tweets[:20]"
   ]
  }
 ],
 "metadata": {
  "kernelspec": {
   "display_name": "Python 3",
   "language": "python",
   "name": "python3"
  },
  "language_info": {
   "codemirror_mode": {
    "name": "ipython",
    "version": 3
   },
   "file_extension": ".py",
   "mimetype": "text/x-python",
   "name": "python",
   "nbconvert_exporter": "python",
   "pygments_lexer": "ipython3",
   "version": "3.6.6"
  }
 },
 "nbformat": 4,
 "nbformat_minor": 2
}
