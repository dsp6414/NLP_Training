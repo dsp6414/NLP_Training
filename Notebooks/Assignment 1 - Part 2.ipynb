{
 "cells": [
  {
   "cell_type": "code",
   "execution_count": 12,
   "metadata": {},
   "outputs": [],
   "source": [
    "import pandas as pd\n",
    "import sys\n",
    "sys.path.append('../word-embeddings-benchmark')\n",
    "\n",
    "from web.datasets.similarity import fetch_MTurk, fetch_WS353, fetch_RG65, fetch_RW"
   ]
  },
  {
   "cell_type": "code",
   "execution_count": 4,
   "metadata": {},
   "outputs": [],
   "source": [
    "def read_txt(file):\n",
    "    return pd.read_csv(file, header=None, sep=\" \")"
   ]
  },
  {
   "cell_type": "code",
   "execution_count": 5,
   "metadata": {},
   "outputs": [],
   "source": [
    "#MTurk\n",
    "mturk = read_txt('../Data/Similarity/EN-TRUK.txt')"
   ]
  },
  {
   "cell_type": "code",
   "execution_count": 6,
   "metadata": {},
   "outputs": [
    {
     "data": {
      "text/html": [
       "<div>\n",
       "<style scoped>\n",
       "    .dataframe tbody tr th:only-of-type {\n",
       "        vertical-align: middle;\n",
       "    }\n",
       "\n",
       "    .dataframe tbody tr th {\n",
       "        vertical-align: top;\n",
       "    }\n",
       "\n",
       "    .dataframe thead th {\n",
       "        text-align: right;\n",
       "    }\n",
       "</style>\n",
       "<table border=\"1\" class=\"dataframe\">\n",
       "  <thead>\n",
       "    <tr style=\"text-align: right;\">\n",
       "      <th></th>\n",
       "      <th>0</th>\n",
       "      <th>1</th>\n",
       "      <th>2</th>\n",
       "    </tr>\n",
       "  </thead>\n",
       "  <tbody>\n",
       "    <tr>\n",
       "      <th>0</th>\n",
       "      <td>episcopal</td>\n",
       "      <td>russia</td>\n",
       "      <td>2.750000</td>\n",
       "    </tr>\n",
       "    <tr>\n",
       "      <th>1</th>\n",
       "      <td>water</td>\n",
       "      <td>shortage</td>\n",
       "      <td>2.714286</td>\n",
       "    </tr>\n",
       "    <tr>\n",
       "      <th>2</th>\n",
       "      <td>horse</td>\n",
       "      <td>wedding</td>\n",
       "      <td>2.266667</td>\n",
       "    </tr>\n",
       "    <tr>\n",
       "      <th>3</th>\n",
       "      <td>plays</td>\n",
       "      <td>losses</td>\n",
       "      <td>3.200000</td>\n",
       "    </tr>\n",
       "    <tr>\n",
       "      <th>4</th>\n",
       "      <td>classics</td>\n",
       "      <td>advertiser</td>\n",
       "      <td>2.250000</td>\n",
       "    </tr>\n",
       "  </tbody>\n",
       "</table>\n",
       "</div>"
      ],
      "text/plain": [
       "           0           1         2\n",
       "0  episcopal      russia  2.750000\n",
       "1      water    shortage  2.714286\n",
       "2      horse     wedding  2.266667\n",
       "3      plays      losses  3.200000\n",
       "4   classics  advertiser  2.250000"
      ]
     },
     "execution_count": 6,
     "metadata": {},
     "output_type": "execute_result"
    }
   ],
   "source": [
    "mturk.head()"
   ]
  },
  {
   "cell_type": "markdown",
   "metadata": {},
   "source": [
    "## List of similarity datasets to be evaluated:\n",
    "MTurk, MEN, WS353, Rubenstein and Goodenough, Rare Words, SimLex999, TR9856 "
   ]
  },
  {
   "cell_type": "code",
   "execution_count": 15,
   "metadata": {},
   "outputs": [],
   "source": [
    "#Just downloading the files to compare and ensure I have the right datasets\n",
    "\n",
    "\n",
    "# dataset = fetch_MTurk()  #Downloaded. Yet to be understood\n",
    "# dataset = fetch_MEN()   #Not Downloaded\n",
    "# dataset = fetch_WS353(\"relatedness\") #Downloaded. Difference between relatedness and attributional\n",
    "# dataset = fetch_RG65() #Downloaded : Evaluate\n",
    "# dataset = fetch_RW() #Downloaded : Evaluate"
   ]
  },
  {
   "cell_type": "code",
   "execution_count": 16,
   "metadata": {},
   "outputs": [
    {
     "data": {
      "text/plain": [
       "{'X': array([['squishing', 'squirt'],\n",
       "        ['undated', 'undatable'],\n",
       "        ['circumvents', 'beat'],\n",
       "        ...,\n",
       "        ['irredeemable', 'wicked'],\n",
       "        ['irredeemable', 'inconvertible'],\n",
       "        ['snickering', 'laugh']], dtype=object),\n",
       " 'y': array([5.88, 5.83, 5.33, ..., 6.43, 6.57, 7.71]),\n",
       " 'sd': nan}"
      ]
     },
     "execution_count": 16,
     "metadata": {},
     "output_type": "execute_result"
    }
   ],
   "source": [
    "dataset"
   ]
  }
 ],
 "metadata": {
  "kernelspec": {
   "display_name": "Python 3",
   "language": "python",
   "name": "python3"
  },
  "language_info": {
   "codemirror_mode": {
    "name": "ipython",
    "version": 3
   },
   "file_extension": ".py",
   "mimetype": "text/x-python",
   "name": "python",
   "nbconvert_exporter": "python",
   "pygments_lexer": "ipython3",
   "version": "3.6.6"
  }
 },
 "nbformat": 4,
 "nbformat_minor": 4
}
