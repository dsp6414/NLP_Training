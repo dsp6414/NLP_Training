{
 "cells": [
  {
   "cell_type": "code",
   "execution_count": 26,
   "metadata": {},
   "outputs": [],
   "source": [
    "import pandas as pd\n",
    "import sys\n",
    "sys.path.append('../word-embeddings-benchmark')\n",
    "\n",
    "from web.datasets.similarity import fetch_MTurk, fetch_WS353, fetch_RG65, fetch_RW\n",
    "\n",
    "#Important for converting embeddings to managable format\n",
    "from web.embedding import Embedding\n",
    "from web.evaluate import evaluate_similarity"
   ]
  },
  {
   "cell_type": "markdown",
   "metadata": {},
   "source": [
    "## Similarity Task"
   ]
  },
  {
   "cell_type": "code",
   "execution_count": 5,
   "metadata": {},
   "outputs": [],
   "source": [
    "def read_txt(file):\n",
    "    return pd.read_csv(file, header=None, sep=\" \")\n"
   ]
  },
  {
   "cell_type": "code",
   "execution_count": 6,
   "metadata": {},
   "outputs": [],
   "source": [
    "#MTurk\n",
    "mturk = read_txt('../Data/Similarity/EN-TRUK.txt')"
   ]
  },
  {
   "cell_type": "code",
   "execution_count": 28,
   "metadata": {},
   "outputs": [],
   "source": [
    "X = mturk.iloc[:,:2].values\n",
    "y = mturk.iloc[:,-1].values"
   ]
  },
  {
   "cell_type": "code",
   "execution_count": 31,
   "metadata": {},
   "outputs": [
    {
     "name": "stderr",
     "output_type": "stream",
     "text": [
      "We ignored line number 400000 because of errors in parsing\n",
      "index 400000 is out of bounds for axis 0 with size 400000\n"
     ]
    }
   ],
   "source": [
    "glove = Embedding.from_glove('../Data/Embeddings/GloVe/glove.6B.100d.txt', 400000, 100)"
   ]
  },
  {
   "cell_type": "code",
   "execution_count": 32,
   "metadata": {},
   "outputs": [
    {
     "data": {
      "text/plain": [
       "0.6193399527127165"
      ]
     },
     "execution_count": 32,
     "metadata": {},
     "output_type": "execute_result"
    }
   ],
   "source": [
    "evaluate_similarity(glove, X, y)"
   ]
  },
  {
   "cell_type": "markdown",
   "metadata": {},
   "source": [
    "## List of similarity datasets to be evaluated:\n",
    "MTurk, MEN, WS353, Rubenstein and Goodenough, Rare Words, SimLex999, TR9856 "
   ]
  },
  {
   "cell_type": "code",
   "execution_count": 15,
   "metadata": {},
   "outputs": [],
   "source": [
    "#Just downloading the files to compare and ensure I have the right datasets\n",
    "\n",
    "\n",
    "# dataset = fetch_MTurk()  #Downloaded. Yet to be understood\n",
    "# dataset = fetch_MEN()   #Not Downloaded\n",
    "# dataset = fetch_WS353(\"relatedness\") #Downloaded. Difference between relatedness and attributional\n",
    "# dataset = fetch_RG65() #Downloaded : Evaluate\n",
    "# dataset = fetch_RW() #Downloaded : Downloaded"
   ]
  },
  {
   "cell_type": "code",
   "execution_count": 16,
   "metadata": {},
   "outputs": [
    {
     "data": {
      "text/plain": [
       "{'X': array([['squishing', 'squirt'],\n",
       "        ['undated', 'undatable'],\n",
       "        ['circumvents', 'beat'],\n",
       "        ...,\n",
       "        ['irredeemable', 'wicked'],\n",
       "        ['irredeemable', 'inconvertible'],\n",
       "        ['snickering', 'laugh']], dtype=object),\n",
       " 'y': array([5.88, 5.83, 5.33, ..., 6.43, 6.57, 7.71]),\n",
       " 'sd': nan}"
      ]
     },
     "execution_count": 16,
     "metadata": {},
     "output_type": "execute_result"
    }
   ],
   "source": [
    "dataset"
   ]
  }
 ],
 "metadata": {
  "kernelspec": {
   "display_name": "Python 3",
   "language": "python",
   "name": "python3"
  },
  "language_info": {
   "codemirror_mode": {
    "name": "ipython",
    "version": 3
   },
   "file_extension": ".py",
   "mimetype": "text/x-python",
   "name": "python",
   "nbconvert_exporter": "python",
   "pygments_lexer": "ipython3",
   "version": "3.6.6"
  }
 },
 "nbformat": 4,
 "nbformat_minor": 4
}
